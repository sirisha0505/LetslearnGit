{
 "cells": [
  {
   "cell_type": "code",
   "execution_count": 1,
   "id": "fa67a39a",
   "metadata": {},
   "outputs": [],
   "source": [
    "#importing the required packages\n",
    "import numpy as np\n",
    "import pandas as pd\n",
    "import matplotlib.pyplot as plt"
   ]
  },
  {
   "cell_type": "code",
   "execution_count": 2,
   "id": "2bc97634",
   "metadata": {},
   "outputs": [],
   "source": [
    "df = pd.read_csv('Position_Salaries.csv')"
   ]
  },
  {
   "cell_type": "code",
   "execution_count": 3,
   "id": "ad451fc0",
   "metadata": {},
   "outputs": [
    {
     "data": {
      "text/html": [
       "<div>\n",
       "<style scoped>\n",
       "    .dataframe tbody tr th:only-of-type {\n",
       "        vertical-align: middle;\n",
       "    }\n",
       "\n",
       "    .dataframe tbody tr th {\n",
       "        vertical-align: top;\n",
       "    }\n",
       "\n",
       "    .dataframe thead th {\n",
       "        text-align: right;\n",
       "    }\n",
       "</style>\n",
       "<table border=\"1\" class=\"dataframe\">\n",
       "  <thead>\n",
       "    <tr style=\"text-align: right;\">\n",
       "      <th></th>\n",
       "      <th>Position</th>\n",
       "      <th>Level</th>\n",
       "      <th>Salary</th>\n",
       "    </tr>\n",
       "  </thead>\n",
       "  <tbody>\n",
       "    <tr>\n",
       "      <th>0</th>\n",
       "      <td>Business Analyst</td>\n",
       "      <td>1</td>\n",
       "      <td>45000</td>\n",
       "    </tr>\n",
       "    <tr>\n",
       "      <th>1</th>\n",
       "      <td>Junior Consultant</td>\n",
       "      <td>2</td>\n",
       "      <td>50000</td>\n",
       "    </tr>\n",
       "    <tr>\n",
       "      <th>2</th>\n",
       "      <td>Senior Consultant</td>\n",
       "      <td>3</td>\n",
       "      <td>60000</td>\n",
       "    </tr>\n",
       "    <tr>\n",
       "      <th>3</th>\n",
       "      <td>Manager</td>\n",
       "      <td>4</td>\n",
       "      <td>80000</td>\n",
       "    </tr>\n",
       "    <tr>\n",
       "      <th>4</th>\n",
       "      <td>Country Manager</td>\n",
       "      <td>5</td>\n",
       "      <td>110000</td>\n",
       "    </tr>\n",
       "  </tbody>\n",
       "</table>\n",
       "</div>"
      ],
      "text/plain": [
       "            Position  Level  Salary\n",
       "0   Business Analyst      1   45000\n",
       "1  Junior Consultant      2   50000\n",
       "2  Senior Consultant      3   60000\n",
       "3            Manager      4   80000\n",
       "4    Country Manager      5  110000"
      ]
     },
     "execution_count": 3,
     "metadata": {},
     "output_type": "execute_result"
    }
   ],
   "source": [
    "df.head()"
   ]
  },
  {
   "cell_type": "markdown",
   "id": "a48a46d5",
   "metadata": {},
   "source": [
    "### Separating the independent and dependent features\n",
    "#### Dependent feature\n"
   ]
  },
  {
   "cell_type": "code",
   "execution_count": 4,
   "id": "23ee36d3",
   "metadata": {},
   "outputs": [],
   "source": [
    "y = np.asarray(df['Salary'].values.tolist()) \n"
   ]
  },
  {
   "cell_type": "markdown",
   "id": "a107590b",
   "metadata": {},
   "source": [
    "### Independent Feature"
   ]
  },
  {
   "cell_type": "code",
   "execution_count": 5,
   "id": "1a5d769a",
   "metadata": {},
   "outputs": [],
   "source": [
    "X = np.asarray(df['Level'].values.tolist())"
   ]
  },
  {
   "cell_type": "code",
   "execution_count": 6,
   "id": "406fe0a9",
   "metadata": {},
   "outputs": [
    {
     "data": {
      "text/plain": [
       "(10,)"
      ]
     },
     "execution_count": 6,
     "metadata": {},
     "output_type": "execute_result"
    }
   ],
   "source": [
    "X.shape"
   ]
  },
  {
   "cell_type": "code",
   "execution_count": 7,
   "id": "83dbcdb1",
   "metadata": {},
   "outputs": [
    {
     "data": {
      "text/plain": [
       "(10,)"
      ]
     },
     "execution_count": 7,
     "metadata": {},
     "output_type": "execute_result"
    }
   ],
   "source": [
    "y.shape"
   ]
  },
  {
   "cell_type": "code",
   "execution_count": 8,
   "id": "b0b82f34",
   "metadata": {},
   "outputs": [],
   "source": [
    "# Reshaping the independent feature\n",
    "X = X.reshape(-1,1)"
   ]
  },
  {
   "cell_type": "code",
   "execution_count": null,
   "id": "57b1f308",
   "metadata": {},
   "outputs": [],
   "source": [
    "# Changing the shape from (10,) to (10,1)"
   ]
  },
  {
   "cell_type": "code",
   "execution_count": 9,
   "id": "f71d0107",
   "metadata": {},
   "outputs": [],
   "source": [
    "#Reshaping the Dependent features\n",
    "y = y.reshape(len(y),1) "
   ]
  },
  {
   "cell_type": "code",
   "execution_count": 10,
   "id": "92c8f66b",
   "metadata": {},
   "outputs": [
    {
     "name": "stdout",
     "output_type": "stream",
     "text": [
      "The shape of the independent fatures are  (10, 1)\n",
      "The shape of the dependent fatures are  (10, 1)\n"
     ]
    }
   ],
   "source": [
    "print(\"The shape of the independent fatures are \",X.shape)\n",
    "print(\"The shape of the dependent fatures are \",y.shape)"
   ]
  },
  {
   "cell_type": "markdown",
   "id": "25c0c82d",
   "metadata": {},
   "source": [
    "### The method \"poly_features\" concatenates polynomials of independent feature to X\n",
    "### This is similar to PolynomialFeatures class from sklearn.preprocessing"
   ]
  },
  {
   "cell_type": "code",
   "execution_count": null,
   "id": "a07784b4",
   "metadata": {},
   "outputs": [],
   "source": [
    "def poly_features(features, X):\n",
    "  data = pd.DataFrame(np.zeros((X.shape[0],features)))\n",
    "  for i in range(1,features+1):\n",
    "    data.iloc[:,i-1] = (X**i).reshape(-1,1)\n",
    "  X_poly = np.array(data.values.tolist())\n",
    "  return X_poly"
   ]
  },
  {
   "cell_type": "markdown",
   "id": "32930045",
   "metadata": {},
   "source": [
    "### The method \"split_data\" splits the given dataset into trainset and testset\n",
    "### This is similar to the method \"train_test_split\" from \"sklearn.model_selection\""
   ]
  },
  {
   "cell_type": "code",
   "execution_count": null,
   "id": "d8fa5e66",
   "metadata": {},
   "outputs": [],
   "source": [
    "def split_data(X,y,test_size=0.2,random_state=0):\n",
    "     np.random.seed(random_state)                  #set the seed for reproducible results\n",
    "     indices= np.random.permutation(len(X))       #shuffling the indices\n",
    "     data_test_size = int(X.shape[0] * test_size)  #Get the test size\n",
    "\n",
    "        \n",
    "    #Separating the Independent and Dependent features into the Train and Test Set\n",
    "     train_indices = indices[data_test_size:]\n",
    "     test_indices = indices[:data_test_size]\n",
    "     X_train = X[train_indices]\n",
    "     y_train = y[train_indices]\n",
    "     X_test = X[test_indices]\n",
    "     y_test = y[test_indices]\n",
    "     return X_train, y_train, X_test, y_test"
   ]
  },
  {
   "cell_type": "markdown",
   "id": "bcd276ff",
   "metadata": {},
   "source": [
    "###  The method pred_to_plot returns predictions on given values and helps in\n",
    "### better visualization"
   ]
  },
  {
   "cell_type": "code",
   "execution_count": null,
   "id": "445b5cf9",
   "metadata": {},
   "outputs": [],
   "source": [
    "def pred_to_plot(W_trained, X):\n",
    "  prediction_values = list()\n",
    "  for i in range(X.shape[0]):\n",
    "    value = regressor.predict(W_trained,X[i])\n",
    "    prediction_values.append(value)\n",
    "  return prediction_values"
   ]
  },
  {
   "attachments": {},
   "cell_type": "markdown",
   "id": "a9d89ed8",
   "metadata": {},
   "source": [
    "### Coding the polynomialRegression Class\n",
    "\n",
    "### Parameters:\n",
    "\n"
   ]
  },
  {
   "attachments": {},
   "cell_type": "markdown",
   "id": "d86d0ce0",
   "metadata": {},
   "source": [
    "X (array) : Independent Features\n",
    "y (array) : Dependent Features/ Target Variable\n",
    "W (array) : Weights \n",
    "\n",
    "Returns:\n",
    "loss (float) : Calculated Sqaured Error Loss for y and y_pred\n",
    "y_pred (array) : Predicted Target Variable"
   ]
  },
  {
   "cell_type": "code",
   "execution_count": 1,
   "id": "b840cc30",
   "metadata": {},
   "outputs": [],
   "source": [
    "class polynomialRegression():\n",
    "\n",
    "  def __init__(self):\n",
    "    #No instance Variables required\n",
    "    pass\n",
    "\n",
    "  def forward(self,X,y,W):\n",
    "    y_pred = sum(W * X)\n",
    "    loss = ((y_pred-y)**2)/2    #Loss = Squared Error, we introduce 1/2 for ease in the calculation\n",
    "    return loss, y_pred\n"
   ]
  },
  {
   "attachments": {},
   "cell_type": "markdown",
   "id": "a9bc02da",
   "metadata": {},
   "source": [
    "### UpdateWeights\n",
    "### Parameters:\n"
   ]
  },
  {
   "cell_type": "markdown",
   "id": "23d92b66",
   "metadata": {},
   "source": [
    "\n",
    "X (array) : Independent Features\n",
    "y_pred (array) : Predicted Target Variable\n",
    "y_true (array) : Dependent Features/ Target Variable\n",
    "W (array) : Weights\n",
    "alpha (float) : learning rate\n",
    "index (int) : Index to fetch the corresponding values of W, X and y \n",
    "\n",
    "Returns:\n",
    "W (array) : Update Values of Weight"
   ]
  },
  {
   "cell_type": "code",
   "execution_count": null,
   "id": "0840115b",
   "metadata": {},
   "outputs": [],
   "source": []
  }
 ],
 "metadata": {
  "kernelspec": {
   "display_name": "Python 3",
   "language": "python",
   "name": "python3"
  },
  "language_info": {
   "codemirror_mode": {
    "name": "ipython",
    "version": 3
   },
   "file_extension": ".py",
   "mimetype": "text/x-python",
   "name": "python",
   "nbconvert_exporter": "python",
   "pygments_lexer": "ipython3",
   "version": "3.11.0"
  },
  "vscode": {
   "interpreter": {
    "hash": "b37f6842cfa5693682ca177646b86562e7e6680399d6aa97975ae5063d95e764"
   }
  }
 },
 "nbformat": 4,
 "nbformat_minor": 5
}
